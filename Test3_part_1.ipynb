{
 "cells": [
  {
   "cell_type": "markdown",
   "id": "ad5ba30a",
   "metadata": {},
   "source": [
    "# Test Week 3 "
   ]
  },
  {
   "cell_type": "code",
   "execution_count": 1,
   "id": "0db3a2bb",
   "metadata": {},
   "outputs": [
    {
     "name": "stdout",
     "output_type": "stream",
     "text": [
      "    CódigoPostal              Municipio  \\\n",
      "0            M3A             North York   \n",
      "1            M4A             North York   \n",
      "2            M5A       Downtown Toronto   \n",
      "3            M6A             North York   \n",
      "4            M7A           Queen's Park   \n",
      "..           ...                    ...   \n",
      "98           M8X              Etobicoke   \n",
      "99           M4Y       Downtown Toronto   \n",
      "100          M7Y  East Toronto Business   \n",
      "101          M8Y              Etobicoke   \n",
      "102          M8Z              Etobicoke   \n",
      "\n",
      "                                            Vecindario  \n",
      "0                                            Parkwoods  \n",
      "1                                     Victoria Village  \n",
      "2                            Regent Park, Harbourfront  \n",
      "3                     Lawrence Manor, Lawrence Heights  \n",
      "4                        Ontario Provincial Government  \n",
      "..                                                 ...  \n",
      "98       The Kingsway, Montgomery Road, Old Mill North  \n",
      "99                                Church and Wellesley  \n",
      "100                                     Enclave of M4L  \n",
      "101  Old Mill South, King's Mill Park, Sunnylea, Hu...  \n",
      "102  Mimico NW, The Queensway West, South of Bloor,...  \n",
      "\n",
      "[103 rows x 3 columns]\n",
      "\n",
      "Número de filas en el marco de datos:  103\n"
     ]
    }
   ],
   "source": [
    "import pandas as pd\n",
    "import requests\n",
    "from bs4 import BeautifulSoup\n",
    "\n",
    "url = \"https://en.wikipedia.org/wiki/List_of_postal_codes_of_Canada:_M\"\n",
    "html_data = requests.get(url).text\n",
    "soup = BeautifulSoup(html_data, \"lxml\")\n",
    "\n",
    "table_contents = []\n",
    "table = soup.find(\"table\")\n",
    "for row in table.findAll(\"td\"):\n",
    "    cell = {}\n",
    "    if row.span.text == \"Not assigned\":\n",
    "        pass\n",
    "    else:\n",
    "        cell[\"CódigoPostal\"] = row.p.text[:3]\n",
    "        cell[\"Municipio\"] = (row.span.text).split(\"(\")[0]\n",
    "        cell[\"Vecindario\"] = (((((row.span.text).split(\"(\")[1]).strip(\")\")).replace(\" /\", \",\")).replace(\")\", \" \")).strip(\" \")\n",
    "        table_contents.append(cell)\n",
    "\n",
    "df = pd.DataFrame(table_contents)\n",
    "df[\"Municipio\"] = df[\"Municipio\"].replace({\"Downtown TorontoStn A PO Boxes25 The Esplanade\": \"Downtown Toronto Stn A\",\n",
    "                                           \"East TorontoBusiness reply mail Processing Centre969 Eastern\": \"East Toronto Business\",\n",
    "                                           \"EtobicokeNorthwest\": \"Etobicoke Northwest\",\n",
    "                                           \"East YorkEast Toronto\": \"East York/East Toronto\",\n",
    "                                           \"MississaugaCanada Post Gateway Processing Centre\": \"Mississauga\"})\n",
    "\n",
    "print(df)\n",
    "\n",
    "# Imprimir el número de filas del marco de datos\n",
    "print(\"\\nNúmero de filas en el marco de datos: \", df.shape[0])\n"
   ]
  },
  {
   "cell_type": "code",
   "execution_count": null,
   "id": "2586ceba",
   "metadata": {},
   "outputs": [],
   "source": []
  }
 ],
 "metadata": {
  "kernelspec": {
   "display_name": "Python 3 (ipykernel)",
   "language": "python",
   "name": "python3"
  },
  "language_info": {
   "codemirror_mode": {
    "name": "ipython",
    "version": 3
   },
   "file_extension": ".py",
   "mimetype": "text/x-python",
   "name": "python",
   "nbconvert_exporter": "python",
   "pygments_lexer": "ipython3",
   "version": "3.9.7"
  }
 },
 "nbformat": 4,
 "nbformat_minor": 5
}
